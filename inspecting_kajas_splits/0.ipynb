{
 "cells": [
  {
   "cell_type": "code",
   "execution_count": 4,
   "metadata": {},
   "outputs": [],
   "source": [
    "import conllu\n",
    "from pathlib import Path\n",
    "import pandas as pd\n"
   ]
  },
  {
   "cell_type": "code",
   "execution_count": 5,
   "metadata": {},
   "outputs": [],
   "source": [
    "trainpath = next(Path(\"../UD_Slovenian-SST/\").glob(\"*train*conllu\"))\n",
    "devpath = next(Path(\"../UD_Slovenian-SST/\").glob(\"*dev*conllu\"))\n",
    "testpath = next(Path(\"../UD_Slovenian-SST/\").glob(\"*test*conllu\"))\n",
    "\n",
    "train = conllu.parse(trainpath.read_text())\n",
    "dev = conllu.parse(devpath.read_text())\n",
    "test = conllu.parse(testpath.read_text())"
   ]
  },
  {
   "cell_type": "code",
   "execution_count": 6,
   "metadata": {},
   "outputs": [],
   "source": [
    "def tabularize(cnll: list[conllu.TokenList]) -> pd.DataFrame:\n",
    "    data = [\n",
    "        {\n",
    "            \"numtokens\": len(t),\n",
    "            **t.metadata\n",
    "\n",
    "         }\n",
    "        for t in cnll\n",
    "    ]\n",
    "    df = pd.DataFrame(data=data)\n",
    "    df[\"newdoc id\"] = df[\"newdoc id\"].ffill()\n",
    "    return df\n",
    "\n",
    "train_df = tabularize(train)\n",
    "train_df[\"split\"] = \"train\"\n",
    "dev_df = tabularize(dev)\n",
    "dev_df[\"split\"] = \"dev\"\n",
    "test_df = tabularize(test)\n",
    "test_df[\"split\"] = \"test\"\n",
    "\n",
    "df = pd.concat([train_df, test_df, dev_df]).reset_index(drop=True)\n",
    "df[\"iniriss\"] = df.sent_id.str.contains(\"Artur\")"
   ]
  },
  {
   "cell_type": "code",
   "execution_count": 9,
   "metadata": {},
   "outputs": [
    {
     "data": {
      "text/plain": [
       "split  iniriss\n",
       "dev    True       12811\n",
       "test   False      12523\n",
       "       True         819\n",
       "train  False      37549\n",
       "       True       34691\n",
       "Name: numtokens, dtype: int64"
      ]
     },
     "execution_count": 9,
     "metadata": {},
     "output_type": "execute_result"
    }
   ],
   "source": [
    "df.groupby([\"split\", \"iniriss\"])[\"numtokens\"].sum()"
   ]
  },
  {
   "cell_type": "code",
   "execution_count": null,
   "metadata": {},
   "outputs": [],
   "source": [
    "df.groupby([ \"iniriss\"])[\"numtokens\"].sum()"
   ]
  }
 ],
 "metadata": {
  "kernelspec": {
   "display_name": "splitinspector",
   "language": "python",
   "name": "python3"
  },
  "language_info": {
   "codemirror_mode": {
    "name": "ipython",
    "version": 3
   },
   "file_extension": ".py",
   "mimetype": "text/x-python",
   "name": "python",
   "nbconvert_exporter": "python",
   "pygments_lexer": "ipython3",
   "version": "3.12.5"
  }
 },
 "nbformat": 4,
 "nbformat_minor": 2
}
